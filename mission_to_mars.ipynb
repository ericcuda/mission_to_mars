{
 "cells": [
  {
   "cell_type": "code",
   "execution_count": 1,
   "metadata": {},
   "outputs": [],
   "source": [
    "# mission_to_mars.ipynb\n",
    "# Eric Staveley  MWsa"
   ]
  },
  {
   "cell_type": "code",
   "execution_count": 2,
   "metadata": {},
   "outputs": [],
   "source": [
    "from bs4 import BeautifulSoup\n",
    "import pandas as pd\n",
    "from splinter import Browser\n",
    "import time"
   ]
  },
  {
   "cell_type": "code",
   "execution_count": 3,
   "metadata": {},
   "outputs": [],
   "source": [
    "#Mac user [prob TA/Instr  :-) ]\n",
    "# Choose the executable path to driver \n",
    "#executable_path = {'executable_path': '/usr/local/bin/chromedriver.exe'}\n",
    "#browser = Browser('chrome', **executable_path, headless=False)"
   ]
  },
  {
   "cell_type": "code",
   "execution_count": 4,
   "metadata": {},
   "outputs": [],
   "source": [
    "def init_browser():\n",
    "    #windows (me)   Make sure the chromedriver is in the jupy nb file location\n",
    "    executable_path = {\"executable_path\": 'chromedriver.exe'}\n",
    "    return Browser(\"chrome\", **executable_path, headless=False)"
   ]
  },
  {
   "cell_type": "markdown",
   "metadata": {},
   "source": [
    "# NASA Mars News Scraping"
   ]
  },
  {
   "cell_type": "code",
   "execution_count": 5,
   "metadata": {},
   "outputs": [],
   "source": [
    "# Scrape the NASA Mars News Site and collect the latest News Title and Paragraph Text. \n",
    "# Assign the text to variables that you can reference later."
   ]
  },
  {
   "cell_type": "code",
   "execution_count": 9,
   "metadata": {},
   "outputs": [],
   "source": [
    "browser = init_browser()"
   ]
  },
  {
   "cell_type": "code",
   "execution_count": 10,
   "metadata": {},
   "outputs": [],
   "source": [
    "# NASA mars url\n",
    "url_mars = \"https://mars.nasa.gov/news/?page=0&per_page=40&order=publish_date+desc%2Ccreated_at+desc&search=&category=19%2C165%2C184%2C204&blank_scope=Latest\""
   ]
  },
  {
   "cell_type": "code",
   "execution_count": 11,
   "metadata": {},
   "outputs": [],
   "source": [
    "#confirm the site\n",
    "browser.visit(url_mars)"
   ]
  },
  {
   "cell_type": "code",
   "execution_count": 12,
   "metadata": {},
   "outputs": [],
   "source": [
    "#define html object\n",
    "html_mars = browser.html"
   ]
  },
  {
   "cell_type": "code",
   "execution_count": 13,
   "metadata": {},
   "outputs": [],
   "source": [
    "#use BeautifulSoup to extract data from html\n",
    "soup_mars = BeautifulSoup(html_mars, 'lxml')"
   ]
  },
  {
   "cell_type": "code",
   "execution_count": 14,
   "metadata": {},
   "outputs": [
    {
     "data": {
      "text/plain": [
       "\"Curiosity Tastes First Sample in 'Clay-Bearing Unit'\""
      ]
     },
     "execution_count": 14,
     "metadata": {},
     "output_type": "execute_result"
    }
   ],
   "source": [
    "#get latest news title and show it\n",
    "news_title = soup_mars.find('div', class_='content_title').text\n",
    "news_title"
   ]
  },
  {
   "cell_type": "code",
   "execution_count": 15,
   "metadata": {},
   "outputs": [
    {
     "data": {
      "text/plain": [
       "'This new region on Mars might reveal more about the role of water on Mount Sharp.'"
      ]
     },
     "execution_count": 15,
     "metadata": {},
     "output_type": "execute_result"
    }
   ],
   "source": [
    "#find unique tag and get latest news paragraph and show it\n",
    "news_paragraph = soup_mars.find('div', class_='article_teaser_body').text\n",
    "news_paragraph"
   ]
  },
  {
   "cell_type": "markdown",
   "metadata": {},
   "source": [
    "# JPL Scraping"
   ]
  },
  {
   "cell_type": "code",
   "execution_count": 16,
   "metadata": {},
   "outputs": [],
   "source": [
    "# Visit the url for JPL Featured Space Image\n",
    "# Use splinter to navigate the site and find the image url for the current \n",
    "# Featured Mars Image and assign the url string to a variable called featured_image_url.\n",
    "# Make sure to find the image url to the full size .jpg image.\n",
    "# Make sure to save a complete url string for this image."
   ]
  },
  {
   "cell_type": "code",
   "execution_count": 17,
   "metadata": {},
   "outputs": [],
   "source": [
    "#Find mars images from JPL url\n",
    "url_jpl= \"https://www.jpl.nasa.gov/spaceimages/?search=&category=Mars\"\n",
    "\n",
    "#define base jpl url\n",
    "base_url = 'https://www.jpl.nasa.gov/'\n",
    "\n",
    "#confirm the site\n",
    "browser.visit(url_jpl)\n",
    "\n",
    "#use is_text_present and click_link_by_partial_text to help define browser\n",
    "browser.is_text_present('FULL IMAGE')\n",
    "browser.click_link_by_partial_text('FULL IMAGE')"
   ]
  },
  {
   "cell_type": "code",
   "execution_count": 18,
   "metadata": {},
   "outputs": [],
   "source": [
    "#define html object\n",
    "html_jpl = browser.html"
   ]
  },
  {
   "cell_type": "code",
   "execution_count": 19,
   "metadata": {},
   "outputs": [],
   "source": [
    "#use BeautifulSoup to extract data from html\n",
    "soup_jpl = BeautifulSoup(html_jpl, 'lxml')"
   ]
  },
  {
   "cell_type": "code",
   "execution_count": 20,
   "metadata": {},
   "outputs": [],
   "source": [
    "#find unique tag to locate data of interest\n",
    "image_location = soup_jpl.find('article')['style'].replace('background-image: url(', '').replace(');', '')[1:-1]"
   ]
  },
  {
   "cell_type": "code",
   "execution_count": 21,
   "metadata": {},
   "outputs": [
    {
     "data": {
      "text/plain": [
       "'https://www.jpl.nasa.gov//spaceimages/images/wallpaper/PIA14884-1920x1200.jpg'"
      ]
     },
     "execution_count": 21,
     "metadata": {},
     "output_type": "execute_result"
    }
   ],
   "source": [
    "featured_image_url = base_url + image_location\n",
    "featured_image_url    #  the full image url"
   ]
  },
  {
   "cell_type": "markdown",
   "metadata": {},
   "source": [
    "# Scrape Mars Weather twitter site"
   ]
  },
  {
   "cell_type": "code",
   "execution_count": 22,
   "metadata": {},
   "outputs": [],
   "source": [
    "# Visit the Mars Weather twitter account and scrape the latest Mars weather tweet from the page. \n",
    "# Save the tweet text for the weather report as a variable called mars_weather."
   ]
  },
  {
   "cell_type": "code",
   "execution_count": 23,
   "metadata": {},
   "outputs": [],
   "source": [
    "#scrape mars weather from their twitter account\n",
    "url_mars_weather = 'https://twitter.com/marswxreport?lang=en'\n",
    "#verify site\n",
    "browser.visit(url_mars_weather)"
   ]
  },
  {
   "cell_type": "code",
   "execution_count": 24,
   "metadata": {},
   "outputs": [],
   "source": [
    "#define html object\n",
    "html_mars_weather = browser.html"
   ]
  },
  {
   "cell_type": "code",
   "execution_count": 25,
   "metadata": {},
   "outputs": [],
   "source": [
    "#use BeautifulSoup to extract data from html\n",
    "soup_mars_weather = BeautifulSoup(html_mars_weather, 'lxml')"
   ]
  },
  {
   "cell_type": "code",
   "execution_count": 27,
   "metadata": {},
   "outputs": [
    {
     "data": {
      "text/plain": [
       "[<div class=\"js-tweet-text-container\">\n",
       " <p class=\"TweetTextSize TweetTextSize--normal js-tweet-text tweet-text\" data-aria-label-part=\"0\" lang=\"en\">InSight sol 135 (2019-04-13) low -96.5ºC (-141.8ºF) high -16.6ºC (2.2ºF)\n",
       " winds from the SW at 4.2 m/s (9.4 mph) gusting to 11.3 m/s (25.3 mph)\n",
       " pressure at 7.30 hPa<a class=\"twitter-timeline-link u-hidden\" data-pre-embedded=\"true\" dir=\"ltr\" href=\"https://t.co/bRsLlzn4M0\">pic.twitter.com/bRsLlzn4M0</a></p>\n",
       " </div>, <div class=\"js-tweet-text-container\">\n",
       " <p class=\"TweetTextSize TweetTextSize--normal js-tweet-text tweet-text\" data-aria-label-part=\"0\" lang=\"en\">InSight sol 134 (2019-04-12) low -98.4ºC (-145.1ºF) high -18.2ºC (-0.8ºF)\n",
       " pressure at 7.30 hPa<a class=\"twitter-timeline-link u-hidden\" data-pre-embedded=\"true\" dir=\"ltr\" href=\"https://t.co/1DE7KRn8xy\">pic.twitter.com/1DE7KRn8xy</a></p>\n",
       " </div>, <div class=\"js-tweet-text-container\">\n",
       " <p class=\"TweetTextSize TweetTextSize--normal js-tweet-text tweet-text\" data-aria-label-part=\"0\" lang=\"en\">InSight sol 133 (2019-04-11) low -96.8ºC (-142.3ºF) high -15.7ºC (3.8ºF)\n",
       " winds from the W at 4.2 m/s (9.3 mph) gusting to 11.7 m/s (26.2 mph)\n",
       " pressure at 7.30 hPa<a class=\"twitter-timeline-link u-hidden\" data-pre-embedded=\"true\" dir=\"ltr\" href=\"https://t.co/kmh5FXGbBL\">pic.twitter.com/kmh5FXGbBL</a></p>\n",
       " </div>, <div class=\"js-tweet-text-container\">\n",
       " <p class=\"TweetTextSize TweetTextSize--normal js-tweet-text tweet-text\" data-aria-label-part=\"0\" lang=\"en\">InSight sol 132 (2019-04-10) low -97.7ºC (-143.8ºF) high -16.3ºC (2.7ºF)\n",
       " winds from the SW at 4.3 m/s (9.5 mph) gusting to 12.2 m/s (27.3 mph)\n",
       " pressure at 7.30 hPa<a class=\"twitter-timeline-link u-hidden\" data-pre-embedded=\"true\" dir=\"ltr\" href=\"https://t.co/lW713h6MMh\">pic.twitter.com/lW713h6MMh</a></p>\n",
       " </div>, <div class=\"js-tweet-text-container\">\n",
       " <p class=\"TweetTextSize TweetTextSize--normal js-tweet-text tweet-text\" data-aria-label-part=\"0\" lang=\"en\">InSight sol 131 (2019-04-09) low -98.2ºC (-144.8ºF) high -15.6ºC (3.8ºF)\n",
       " winds from the WNW at 4.1 m/s (9.1 mph) gusting to 11.6 m/s (26.0 mph)\n",
       " pressure at 7.30 hPa<a class=\"twitter-timeline-link u-hidden\" data-pre-embedded=\"true\" dir=\"ltr\" href=\"https://t.co/g5upn7bkE5\">pic.twitter.com/g5upn7bkE5</a></p>\n",
       " </div>, <div class=\"js-tweet-text-container\">\n",
       " <p class=\"TweetTextSize TweetTextSize--normal js-tweet-text tweet-text\" data-aria-label-part=\"0\" lang=\"en\">That <a class=\"twitter-hashtag pretty-link js-nav\" data-query-source=\"hashtag_click\" dir=\"ltr\" href=\"/hashtag/BlackHole?src=hash\"><s>#</s><b>BlackHole</b></a> image that’s all over your twitter feed, it’s pretty big. Randall Munroe of xkcd puts it into perspective \n",
       " \n",
       " <a class=\"twitter-timeline-link\" data-expanded-url=\"https://xkcd.com/2135/\" dir=\"ltr\" href=\"https://t.co/6C6ERZH9PW\" rel=\"nofollow noopener\" target=\"_blank\" title=\"https://xkcd.com/2135/\"><span class=\"tco-ellipsis\"></span><span class=\"invisible\">https://</span><span class=\"js-display-url\">xkcd.com/2135/</span><span class=\"invisible\"></span><span class=\"tco-ellipsis\"><span class=\"invisible\"> </span></span></a><a class=\"twitter-timeline-link u-hidden\" data-pre-embedded=\"true\" dir=\"ltr\" href=\"https://t.co/3cmwplcIBZ\">pic.twitter.com/3cmwplcIBZ</a></p>\n",
       " </div>, <div class=\"js-tweet-text-container\">\n",
       " <p class=\"TweetTextSize TweetTextSize--normal js-tweet-text tweet-text\" data-aria-label-part=\"0\" lang=\"en\">InSight sol 130 (2019-04-08) low -98.0ºC (-144.4ºF) high -15.5ºC (4.1ºF)\n",
       " winds from the SW at 4.1 m/s (9.3 mph) gusting to 11.7 m/s (26.2 mph)\n",
       " pressure at 7.30 hPa<a class=\"twitter-timeline-link u-hidden\" data-pre-embedded=\"true\" dir=\"ltr\" href=\"https://t.co/awJfx8w2YE\">pic.twitter.com/awJfx8w2YE</a></p>\n",
       " </div>, <div class=\"js-tweet-text-container\">\n",
       " <p class=\"TweetTextSize TweetTextSize--normal js-tweet-text tweet-text\" data-aria-label-part=\"0\" lang=\"en\">InSight sol 129 (2019-04-07) low -97.7ºC (-143.9ºF) high -16.7ºC (1.9ºF)\n",
       " winds from the SW at 4.1 m/s (9.1 mph) gusting to 11.9 m/s (26.7 mph)\n",
       " pressure at 7.30 hPa<a class=\"twitter-timeline-link u-hidden\" data-pre-embedded=\"true\" dir=\"ltr\" href=\"https://t.co/UbKB6hFeoI\">pic.twitter.com/UbKB6hFeoI</a></p>\n",
       " </div>, <div class=\"js-tweet-text-container\">\n",
       " <p class=\"TweetTextSize TweetTextSize--normal js-tweet-text tweet-text\" data-aria-label-part=\"0\" lang=\"en\">InSight sol 128 (2019-04-06) low -97.5ºC (-143.6ºF) high -15.5ºC (4.1ºF)\n",
       " winds from the SW at 4.1 m/s (9.3 mph) gusting to 13.6 m/s (30.4 mph)\n",
       " pressure at 7.30 hPa</p>\n",
       " </div>, <div class=\"js-tweet-text-container\">\n",
       " <p class=\"TweetTextSize TweetTextSize--normal js-tweet-text tweet-text\" data-aria-label-part=\"0\" lang=\"en\">InSight sol 127 (2019-04-05) low -96.6ºC (-141.9ºF) high -16.8ºC (1.8ºF)\n",
       " winds from the SW at 4.2 m/s (9.3 mph) gusting to 11.2 m/s (25.0 mph)\n",
       " pressure at 7.30 hPa<a class=\"twitter-timeline-link u-hidden\" data-pre-embedded=\"true\" dir=\"ltr\" href=\"https://t.co/wky4Uf2fyY\">pic.twitter.com/wky4Uf2fyY</a></p>\n",
       " </div>, <div class=\"js-tweet-text-container\">\n",
       " <p class=\"TweetTextSize TweetTextSize--normal js-tweet-text tweet-text\" data-aria-label-part=\"0\" lang=\"en\">It’s time!\n",
       " \n",
       " <a class=\"twitter-hashtag pretty-link js-nav\" data-query-source=\"hashtag_click\" dir=\"ltr\" href=\"/hashtag/ExploreJPL?src=hash\"><s>#</s><b>ExploreJPL</b></a> tickets are AVAILABLE NOW. Tickets are free, but limited, for our annual public event, this year on May 18-19: <a class=\"twitter-timeline-link\" data-expanded-url=\"https://explore.jpl.nasa.gov/\" dir=\"ltr\" href=\"https://t.co/meeLAfxCFq\" rel=\"nofollow noopener\" target=\"_blank\" title=\"https://explore.jpl.nasa.gov/\"><span class=\"tco-ellipsis\"></span><span class=\"invisible\">https://</span><span class=\"js-display-url\">explore.jpl.nasa.gov</span><span class=\"invisible\">/</span><span class=\"tco-ellipsis\"><span class=\"invisible\"> </span></span></a><a class=\"twitter-timeline-link u-hidden\" data-pre-embedded=\"true\" dir=\"ltr\" href=\"https://t.co/sDqzFKqOc7\">pic.twitter.com/sDqzFKqOc7</a></p>\n",
       " </div>, <div class=\"js-tweet-text-container\">\n",
       " <p class=\"TweetTextSize TweetTextSize--normal js-tweet-text tweet-text\" data-aria-label-part=\"0\" lang=\"en\">InSight sol 126 (2019-04-04) low -97.0ºC (-142.7ºF) high -17.0ºC (1.3ºF)\n",
       " winds from the SW at 4.0 m/s (8.8 mph) gusting to 10.7 m/s (23.9 mph)\n",
       " pressure at 7.30 hPa<a class=\"twitter-timeline-link u-hidden\" data-pre-embedded=\"true\" dir=\"ltr\" href=\"https://t.co/yIkUgwaoIc\">pic.twitter.com/yIkUgwaoIc</a></p>\n",
       " </div>, <div class=\"js-tweet-text-container\">\n",
       " <p class=\"TweetTextSize TweetTextSize--normal js-tweet-text tweet-text\" data-aria-label-part=\"0\" lang=\"en\">InSight sol 125 (2019-04-03) low -97.2ºC (-143.0ºF) high -16.8ºC (1.7ºF)\n",
       " winds from the SW at 4.0 m/s (8.9 mph) gusting to 11.7 m/s (26.2 mph)\n",
       " pressure at 7.30 hPa<a class=\"twitter-timeline-link u-hidden\" data-pre-embedded=\"true\" dir=\"ltr\" href=\"https://t.co/ht1lEraC6M\">pic.twitter.com/ht1lEraC6M</a></p>\n",
       " </div>, <div class=\"js-tweet-text-container\">\n",
       " <p class=\"TweetTextSize TweetTextSize--normal js-tweet-text tweet-text\" data-aria-label-part=\"0\" lang=\"en\">The <a class=\"twitter-atreply pretty-link js-nav\" data-mentioned-user-id=\"15473958\" dir=\"ltr\" href=\"/MarsCuriosity\"><s>@</s><b>MarsCuriosity</b></a> captured the Martian moon Phobos as it transits the Sun. \n",
       " \n",
       " <a class=\"twitter-timeline-link\" data-expanded-url=\"https://www.nasa.gov/feature/jpl/curiosity-captured-two-solar-eclipses-on-mars/\" dir=\"ltr\" href=\"https://t.co/xbZvqVt2XR\" rel=\"nofollow noopener\" target=\"_blank\" title=\"https://www.nasa.gov/feature/jpl/curiosity-captured-two-solar-eclipses-on-mars/\"><span class=\"tco-ellipsis\"></span><span class=\"invisible\">https://www.</span><span class=\"js-display-url\">nasa.gov/feature/jpl/cu</span><span class=\"invisible\">riosity-captured-two-solar-eclipses-on-mars/</span><span class=\"tco-ellipsis\"><span class=\"invisible\"> </span>…</span></a><a class=\"twitter-timeline-link u-hidden\" data-pre-embedded=\"true\" dir=\"ltr\" href=\"https://t.co/30BOw1X3J1\">pic.twitter.com/30BOw1X3J1</a></p>\n",
       " </div>, <div class=\"js-tweet-text-container\">\n",
       " <p class=\"TweetTextSize TweetTextSize--normal js-tweet-text tweet-text\" data-aria-label-part=\"0\" lang=\"en\">InSight sol 124 (2019-04-02) low -97.9ºC (-144.2ºF) high -16.7ºC (2.0ºF)\n",
       " winds from the SW at 4.0 m/s (9.0 mph) gusting to 11.8 m/s (26.3 mph)\n",
       " pressure at 7.30 hPa<a class=\"twitter-timeline-link u-hidden\" data-pre-embedded=\"true\" dir=\"ltr\" href=\"https://t.co/5qlTMQUtJW\">pic.twitter.com/5qlTMQUtJW</a></p>\n",
       " </div>, <div class=\"js-tweet-text-container\">\n",
       " <p class=\"TweetTextSize TweetTextSize--normal js-tweet-text tweet-text\" data-aria-label-part=\"0\" lang=\"en\"><img alt=\"👀\" aria-label=\"Emoji: Eyes\" class=\"Emoji Emoji--forText\" draggable=\"false\" src=\"https://abs.twimg.com/emoji/v2/72x72/1f440.png\" title=\"Eyes\"/> Blink and you’ll miss it...<img alt=\"👀\" aria-label=\"Emoji: Eyes\" class=\"Emoji Emoji--forText\" draggable=\"false\" src=\"https://abs.twimg.com/emoji/v2/72x72/1f440.png\" title=\"Eyes\"/>\n",
       " I’ve been eclipse-watching on Mars! Watch this series of pics closely, as shadows move and brightness briefly dips when Mars’ moon Phobos passes in front of the Sun.<a class=\"twitter-timeline-link u-hidden\" data-pre-embedded=\"true\" dir=\"ltr\" href=\"https://t.co/nmPBlJhDNh\">pic.twitter.com/nmPBlJhDNh</a></p>\n",
       " </div>, <div class=\"js-tweet-text-container\">\n",
       " <p class=\"TweetTextSize TweetTextSize--normal js-tweet-text tweet-text\" data-aria-label-part=\"0\" lang=\"en\">Dust collection <a class=\"twitter-atreply pretty-link js-nav\" data-mentioned-user-id=\"407387443\" dir=\"ltr\" href=\"/NASAInSight\"><s>@</s><b>NASAInSight</b></a>’s solar panels, since landing in late November.<a class=\"twitter-timeline-link u-hidden\" data-pre-embedded=\"true\" dir=\"ltr\" href=\"https://t.co/fAk4Cedt89\">pic.twitter.com/fAk4Cedt89</a></p>\n",
       " </div>, <div class=\"js-tweet-text-container\">\n",
       " <p class=\"TweetTextSize TweetTextSize--normal js-tweet-text tweet-text\" data-aria-label-part=\"0\" lang=\"en\">InSight sol 119 (2019-03-28) low -97.4ºC (-143.3ºF) high -15.0ºC (4.9ºF)\n",
       " winds from the SW at 4.0 m/s (9.0 mph) gusting to 9.9 m/s (22.2 mph)\n",
       " pressure at 7.30 hPa<a class=\"twitter-timeline-link u-hidden\" data-pre-embedded=\"true\" dir=\"ltr\" href=\"https://t.co/d5nSamjabl\">pic.twitter.com/d5nSamjabl</a></p>\n",
       " </div>, <div class=\"js-tweet-text-container\">\n",
       " <p class=\"TweetTextSize TweetTextSize--normal js-tweet-text tweet-text\" data-aria-label-part=\"0\" lang=\"en\">InSight sol 118 (2019-03-27) low -96.3ºC (-141.4ºF) high -16.3ºC (2.7ºF)\n",
       " winds from the WNW at 4.2 m/s (9.3 mph) gusting to 11.5 m/s (25.7 mph)\n",
       " pressure at 7.30 hPa</p>\n",
       " </div>, <div class=\"js-tweet-text-container\">\n",
       " <p class=\"TweetTextSize TweetTextSize--normal js-tweet-text tweet-text\" data-aria-label-part=\"0\" lang=\"en\">InSight sol 117 (2019-03-26) low -107.3ºC (-161.1ºF) high -17.1ºC (1.2ºF)\n",
       " pressure at 7.30 hPa</p>\n",
       " </div>]"
      ]
     },
     "execution_count": 27,
     "metadata": {},
     "output_type": "execute_result"
    }
   ],
   "source": [
    "#find unique tag to locate data of interest, weather info is just below div class js-tweet-text-container\n",
    "weather_info = soup_mars_weather.find_all('div', class_='js-tweet-text-container')\n",
    "weather_info"
   ]
  },
  {
   "cell_type": "code",
   "execution_count": 28,
   "metadata": {},
   "outputs": [
    {
     "data": {
      "text/plain": [
       "'InSight sol 135 (2019-04-13) low -96.5ºC (-141.8ºF) high -16.6ºC (2.2ºF)\\nwinds from the SW at 4.2 m/s (9.4 mph) gusting to 11.3 m/s (25.3 mph)\\npressure at 7.30 hPapic.twitter.com/bRsLlzn4M0'"
      ]
     },
     "execution_count": 28,
     "metadata": {},
     "output_type": "execute_result"
    }
   ],
   "source": [
    "#some tweets may not be about the weather....so we will loop thru \n",
    "#until we find 'sol' 'high' 'low' and 'pressure' strings\n",
    "for item in weather_info:\n",
    "    tweet_weather = item.find('p').text\n",
    "    if 'sol' and 'low' and 'high' and 'pressure' in tweet_weather:\n",
    "        break   # can stop looking\n",
    "\n",
    "tweet_weather"
   ]
  },
  {
   "cell_type": "code",
   "execution_count": 29,
   "metadata": {},
   "outputs": [
    {
     "data": {
      "text/plain": [
       "'InSight sol 135 (2019-04-13) low -96.5ºC (-141.8ºF) high -16.6ºC (2.2ºF) winds from the SW at 4.2 m/s (9.4 mph) gusting to 11.3 m/s (25.3 mph) pressure at 7.30 hPa'"
      ]
     },
     "execution_count": 29,
     "metadata": {},
     "output_type": "execute_result"
    }
   ],
   "source": [
    "# strip new line char and trim off pic and beyond, and  and save as mars_weather\n",
    "temp = tweet_weather.replace('\\n',' ')\n",
    "new_temp = temp[:temp.rfind('pic')]\n",
    "mars_weather = new_temp\n",
    "mars_weather"
   ]
  },
  {
   "cell_type": "markdown",
   "metadata": {},
   "source": [
    "# Scrape Mars facts url"
   ]
  },
  {
   "cell_type": "code",
   "execution_count": 30,
   "metadata": {},
   "outputs": [],
   "source": [
    "# Visit the Mars Facts webpage and use Pandas to scrape the table containing facts \n",
    "# about the planet including Diameter, Mass, etc.\n",
    "\n",
    "# Use Pandas to convert the data to a HTML table string."
   ]
  },
  {
   "cell_type": "code",
   "execution_count": 31,
   "metadata": {},
   "outputs": [],
   "source": [
    "#scrape mars facts page using pandas\n",
    "url_facts = 'https://space-facts.com/mars/'"
   ]
  },
  {
   "cell_type": "code",
   "execution_count": 32,
   "metadata": {},
   "outputs": [
    {
     "data": {
      "text/plain": [
       "[                      0                              1\n",
       " 0  Equatorial Diameter:                       6,792 km\n",
       " 1       Polar Diameter:                       6,752 km\n",
       " 2                 Mass:  6.42 x 10^23 kg (10.7% Earth)\n",
       " 3                Moons:            2 (Phobos & Deimos)\n",
       " 4       Orbit Distance:       227,943,824 km (1.52 AU)\n",
       " 5         Orbit Period:           687 days (1.9 years)\n",
       " 6  Surface Temperature:                  -153 to 20 °C\n",
       " 7         First Record:              2nd millennium BC\n",
       " 8          Recorded By:           Egyptian astronomers]"
      ]
     },
     "execution_count": 32,
     "metadata": {},
     "output_type": "execute_result"
    }
   ],
   "source": [
    "#parse the url with read_html\n",
    "mars_tables = pd.read_html(url_facts)\n",
    "mars_tables"
   ]
  },
  {
   "cell_type": "code",
   "execution_count": 33,
   "metadata": {},
   "outputs": [
    {
     "data": {
      "text/html": [
       "<div>\n",
       "<style scoped>\n",
       "    .dataframe tbody tr th:only-of-type {\n",
       "        vertical-align: middle;\n",
       "    }\n",
       "\n",
       "    .dataframe tbody tr th {\n",
       "        vertical-align: top;\n",
       "    }\n",
       "\n",
       "    .dataframe thead th {\n",
       "        text-align: right;\n",
       "    }\n",
       "</style>\n",
       "<table border=\"1\" class=\"dataframe\">\n",
       "  <thead>\n",
       "    <tr style=\"text-align: right;\">\n",
       "      <th></th>\n",
       "      <th>0</th>\n",
       "      <th>1</th>\n",
       "    </tr>\n",
       "  </thead>\n",
       "  <tbody>\n",
       "    <tr>\n",
       "      <th>0</th>\n",
       "      <td>Equatorial Diameter:</td>\n",
       "      <td>6,792 km</td>\n",
       "    </tr>\n",
       "    <tr>\n",
       "      <th>1</th>\n",
       "      <td>Polar Diameter:</td>\n",
       "      <td>6,752 km</td>\n",
       "    </tr>\n",
       "    <tr>\n",
       "      <th>2</th>\n",
       "      <td>Mass:</td>\n",
       "      <td>6.42 x 10^23 kg (10.7% Earth)</td>\n",
       "    </tr>\n",
       "    <tr>\n",
       "      <th>3</th>\n",
       "      <td>Moons:</td>\n",
       "      <td>2 (Phobos &amp; Deimos)</td>\n",
       "    </tr>\n",
       "    <tr>\n",
       "      <th>4</th>\n",
       "      <td>Orbit Distance:</td>\n",
       "      <td>227,943,824 km (1.52 AU)</td>\n",
       "    </tr>\n",
       "    <tr>\n",
       "      <th>5</th>\n",
       "      <td>Orbit Period:</td>\n",
       "      <td>687 days (1.9 years)</td>\n",
       "    </tr>\n",
       "    <tr>\n",
       "      <th>6</th>\n",
       "      <td>Surface Temperature:</td>\n",
       "      <td>-153 to 20 °C</td>\n",
       "    </tr>\n",
       "    <tr>\n",
       "      <th>7</th>\n",
       "      <td>First Record:</td>\n",
       "      <td>2nd millennium BC</td>\n",
       "    </tr>\n",
       "    <tr>\n",
       "      <th>8</th>\n",
       "      <td>Recorded By:</td>\n",
       "      <td>Egyptian astronomers</td>\n",
       "    </tr>\n",
       "  </tbody>\n",
       "</table>\n",
       "</div>"
      ],
      "text/plain": [
       "                      0                              1\n",
       "0  Equatorial Diameter:                       6,792 km\n",
       "1       Polar Diameter:                       6,752 km\n",
       "2                 Mass:  6.42 x 10^23 kg (10.7% Earth)\n",
       "3                Moons:            2 (Phobos & Deimos)\n",
       "4       Orbit Distance:       227,943,824 km (1.52 AU)\n",
       "5         Orbit Period:           687 days (1.9 years)\n",
       "6  Surface Temperature:                  -153 to 20 °C\n",
       "7         First Record:              2nd millennium BC\n",
       "8          Recorded By:           Egyptian astronomers"
      ]
     },
     "execution_count": 33,
     "metadata": {},
     "output_type": "execute_result"
    }
   ],
   "source": [
    "#make the mars fact df out of the mars_table list\n",
    "df = mars_tables[0]\n",
    "df"
   ]
  },
  {
   "cell_type": "code",
   "execution_count": 34,
   "metadata": {},
   "outputs": [],
   "source": [
    "df = mars_tables[0]\n",
    "df.columns = ['Mars item', 'Value']"
   ]
  },
  {
   "cell_type": "code",
   "execution_count": 35,
   "metadata": {
    "scrolled": false
   },
   "outputs": [
    {
     "data": {
      "text/html": [
       "<div>\n",
       "<style scoped>\n",
       "    .dataframe tbody tr th:only-of-type {\n",
       "        vertical-align: middle;\n",
       "    }\n",
       "\n",
       "    .dataframe tbody tr th {\n",
       "        vertical-align: top;\n",
       "    }\n",
       "\n",
       "    .dataframe thead th {\n",
       "        text-align: right;\n",
       "    }\n",
       "</style>\n",
       "<table border=\"1\" class=\"dataframe\">\n",
       "  <thead>\n",
       "    <tr style=\"text-align: right;\">\n",
       "      <th></th>\n",
       "      <th>Mars item</th>\n",
       "      <th>Value</th>\n",
       "    </tr>\n",
       "  </thead>\n",
       "  <tbody>\n",
       "    <tr>\n",
       "      <th>0</th>\n",
       "      <td>Equatorial Diameter:</td>\n",
       "      <td>6,792 km</td>\n",
       "    </tr>\n",
       "    <tr>\n",
       "      <th>1</th>\n",
       "      <td>Polar Diameter:</td>\n",
       "      <td>6,752 km</td>\n",
       "    </tr>\n",
       "    <tr>\n",
       "      <th>2</th>\n",
       "      <td>Mass:</td>\n",
       "      <td>6.42 x 10^23 kg (10.7% Earth)</td>\n",
       "    </tr>\n",
       "    <tr>\n",
       "      <th>3</th>\n",
       "      <td>Moons:</td>\n",
       "      <td>2 (Phobos &amp; Deimos)</td>\n",
       "    </tr>\n",
       "    <tr>\n",
       "      <th>4</th>\n",
       "      <td>Orbit Distance:</td>\n",
       "      <td>227,943,824 km (1.52 AU)</td>\n",
       "    </tr>\n",
       "    <tr>\n",
       "      <th>5</th>\n",
       "      <td>Orbit Period:</td>\n",
       "      <td>687 days (1.9 years)</td>\n",
       "    </tr>\n",
       "    <tr>\n",
       "      <th>6</th>\n",
       "      <td>Surface Temperature:</td>\n",
       "      <td>-153 to 20 °C</td>\n",
       "    </tr>\n",
       "    <tr>\n",
       "      <th>7</th>\n",
       "      <td>First Record:</td>\n",
       "      <td>2nd millennium BC</td>\n",
       "    </tr>\n",
       "    <tr>\n",
       "      <th>8</th>\n",
       "      <td>Recorded By:</td>\n",
       "      <td>Egyptian astronomers</td>\n",
       "    </tr>\n",
       "  </tbody>\n",
       "</table>\n",
       "</div>"
      ],
      "text/plain": [
       "              Mars item                          Value\n",
       "0  Equatorial Diameter:                       6,792 km\n",
       "1       Polar Diameter:                       6,752 km\n",
       "2                 Mass:  6.42 x 10^23 kg (10.7% Earth)\n",
       "3                Moons:            2 (Phobos & Deimos)\n",
       "4       Orbit Distance:       227,943,824 km (1.52 AU)\n",
       "5         Orbit Period:           687 days (1.9 years)\n",
       "6  Surface Temperature:                  -153 to 20 °C\n",
       "7         First Record:              2nd millennium BC\n",
       "8          Recorded By:           Egyptian astronomers"
      ]
     },
     "execution_count": 35,
     "metadata": {},
     "output_type": "execute_result"
    }
   ],
   "source": [
    "df"
   ]
  },
  {
   "cell_type": "code",
   "execution_count": 36,
   "metadata": {},
   "outputs": [
    {
     "data": {
      "text/plain": [
       "'<table border=\"1\" class=\"dataframe\">\\n  <thead>\\n    <tr style=\"text-align: right;\">\\n      <th></th>\\n      <th>Mars item</th>\\n      <th>Value</th>\\n    </tr>\\n  </thead>\\n  <tbody>\\n    <tr>\\n      <th>0</th>\\n      <td>Equatorial Diameter:</td>\\n      <td>6,792 km</td>\\n    </tr>\\n    <tr>\\n      <th>1</th>\\n      <td>Polar Diameter:</td>\\n      <td>6,752 km</td>\\n    </tr>\\n    <tr>\\n      <th>2</th>\\n      <td>Mass:</td>\\n      <td>6.42 x 10^23 kg (10.7% Earth)</td>\\n    </tr>\\n    <tr>\\n      <th>3</th>\\n      <td>Moons:</td>\\n      <td>2 (Phobos &amp; Deimos)</td>\\n    </tr>\\n    <tr>\\n      <th>4</th>\\n      <td>Orbit Distance:</td>\\n      <td>227,943,824 km (1.52 AU)</td>\\n    </tr>\\n    <tr>\\n      <th>5</th>\\n      <td>Orbit Period:</td>\\n      <td>687 days (1.9 years)</td>\\n    </tr>\\n    <tr>\\n      <th>6</th>\\n      <td>Surface Temperature:</td>\\n      <td>-153 to 20 °C</td>\\n    </tr>\\n    <tr>\\n      <th>7</th>\\n      <td>First Record:</td>\\n      <td>2nd millennium BC</td>\\n    </tr>\\n    <tr>\\n      <th>8</th>\\n      <td>Recorded By:</td>\\n      <td>Egyptian astronomers</td>\\n    </tr>\\n  </tbody>\\n</table>'"
      ]
     },
     "execution_count": 36,
     "metadata": {},
     "output_type": "execute_result"
    }
   ],
   "source": [
    "html_tbl_str = df.to_html()\n",
    "html_tbl_str"
   ]
  },
  {
   "cell_type": "code",
   "execution_count": 38,
   "metadata": {},
   "outputs": [],
   "source": [
    "# stript unwanted newlines to clean up the table string\n",
    "html_str_stripped = html_tbl_str.replace('\\n',\"\")"
   ]
  },
  {
   "cell_type": "code",
   "execution_count": 39,
   "metadata": {},
   "outputs": [],
   "source": [
    "#for fun, save the table to a file to see what it looks like\n",
    "df.to_html('mars_facts_raw.html')"
   ]
  },
  {
   "cell_type": "markdown",
   "metadata": {},
   "source": [
    "# Get images of Mars hemispheres from USGS Astrogeology url"
   ]
  },
  {
   "cell_type": "code",
   "execution_count": 40,
   "metadata": {},
   "outputs": [],
   "source": [
    "# Visit the USGS Astrogeology site to obtain high resolution images for each of Mar's hemispheres.\n",
    "# You will need to click each of the links to the hemispheres in order to find the image url to the full resolution image.\n",
    "# Save both the image url string for the full resolution hemisphere image, and \n",
    "# the Hemisphere title containing the hemisphere name. \n",
    "# Use a Python dictionary to store the data using the keys img_url and title.\n",
    "\n",
    "# Append the dictionary with the image url string and the hemisphere title to a list. \n",
    "# This list will contain one dictionary for each hemisphere."
   ]
  },
  {
   "cell_type": "code",
   "execution_count": 41,
   "metadata": {},
   "outputs": [],
   "source": [
    "#define url\n",
    "usgs_url = 'https://astrogeology.usgs.gov/search/results?q=hemisphere+enhanced&k1=target&v1=Mars'\n",
    "#verify\n",
    "browser.visit(usgs_url)\n",
    "#define base url\n",
    "hemis_base_url = 'https://astrogeology.usgs.gov'"
   ]
  },
  {
   "cell_type": "code",
   "execution_count": 42,
   "metadata": {},
   "outputs": [],
   "source": [
    "#define html object\n",
    "html_hemis = browser.html"
   ]
  },
  {
   "cell_type": "code",
   "execution_count": 43,
   "metadata": {},
   "outputs": [],
   "source": [
    "#use BeautifulSoup to extract data from html\n",
    "soup_jpl = BeautifulSoup(html_hemis, 'lxml')"
   ]
  },
  {
   "cell_type": "code",
   "execution_count": 44,
   "metadata": {},
   "outputs": [],
   "source": [
    "# find unique tag to locate data of interest \n",
    "cls_item = soup_jpl.find_all('div', class_='item')"
   ]
  },
  {
   "cell_type": "code",
   "execution_count": 45,
   "metadata": {},
   "outputs": [],
   "source": [
    "#make/clear empty list to hold our image list\n",
    "hemis_img_list = []"
   ]
  },
  {
   "cell_type": "code",
   "execution_count": 46,
   "metadata": {},
   "outputs": [],
   "source": [
    "for item in cls_item:\n",
    "    \n",
    "    #hemisphere titles found in h3 tag\n",
    "    img_title = item.find('h3').text\n",
    "    \n",
    "    #find sub url of image, found in cls itemLink product-item\n",
    "    sub_img_url = item.find('a', class_='itemLink product-item')['href']\n",
    "    \n",
    "    #need to click each of the links to the hemispheres in order to \n",
    "    browser.visit(hemis_base_url + sub_img_url)\n",
    "    #put in any delayes here? i.e :    time.sleep(2)\n",
    "    time.sleep(2)\n",
    "    \n",
    "    #now define html object\n",
    "    img_html = browser.html\n",
    "    \n",
    "    #use BeautifulSoup to extract data from html\n",
    "    soup_img = BeautifulSoup(img_html, 'lxml')\n",
    "    #the specific image path ending\n",
    "    endpoint = soup_img.find('img', class_='wide-image')['src']\n",
    "    #print(endpoint)\n",
    "    \n",
    "    #construct the image url to the full resolution image\n",
    "    img_url = hemis_base_url + endpoint\n",
    "    \n",
    "    #append to our list we created\n",
    "    hemis_img_list.append({\"title\" : img_title, \"img_url\" : img_url})\n",
    "    \n",
    "    "
   ]
  },
  {
   "cell_type": "code",
   "execution_count": 47,
   "metadata": {},
   "outputs": [
    {
     "data": {
      "text/plain": [
       "[{'title': 'Cerberus Hemisphere Enhanced',\n",
       "  'img_url': 'https://astrogeology.usgs.gov/cache/images/cfa62af2557222a02478f1fcd781d445_cerberus_enhanced.tif_full.jpg'},\n",
       " {'title': 'Schiaparelli Hemisphere Enhanced',\n",
       "  'img_url': 'https://astrogeology.usgs.gov/cache/images/3cdd1cbf5e0813bba925c9030d13b62e_schiaparelli_enhanced.tif_full.jpg'},\n",
       " {'title': 'Syrtis Major Hemisphere Enhanced',\n",
       "  'img_url': 'https://astrogeology.usgs.gov/cache/images/ae209b4e408bb6c3e67b6af38168cf28_syrtis_major_enhanced.tif_full.jpg'},\n",
       " {'title': 'Valles Marineris Hemisphere Enhanced',\n",
       "  'img_url': 'https://astrogeology.usgs.gov/cache/images/7cf2da4bf549ed01c17f206327be4db7_valles_marineris_enhanced.tif_full.jpg'}]"
      ]
     },
     "execution_count": 47,
     "metadata": {},
     "output_type": "execute_result"
    }
   ],
   "source": [
    "hemis_img_list"
   ]
  },
  {
   "cell_type": "code",
   "execution_count": null,
   "metadata": {},
   "outputs": [],
   "source": []
  },
  {
   "cell_type": "markdown",
   "metadata": {},
   "source": [
    "# Utility tasks (not to be used in further py activites)"
   ]
  },
  {
   "cell_type": "code",
   "execution_count": null,
   "metadata": {},
   "outputs": [],
   "source": [
    "#convert the jupy bn file to a python script\n",
    "!jupyter nbconvert --to python mission_to_mars.ipynb"
   ]
  },
  {
   "cell_type": "code",
   "execution_count": null,
   "metadata": {},
   "outputs": [],
   "source": [
    "#make a scrape_mars.py script file out of the conversion\n",
    "!copy mission_to_mars.py scrape_mars.py"
   ]
  },
  {
   "cell_type": "code",
   "execution_count": null,
   "metadata": {},
   "outputs": [],
   "source": []
  },
  {
   "cell_type": "code",
   "execution_count": null,
   "metadata": {},
   "outputs": [],
   "source": []
  }
 ],
 "metadata": {
  "kernelspec": {
   "display_name": "Python [conda env:PythonData]",
   "language": "python",
   "name": "pythondata"
  },
  "language_info": {
   "codemirror_mode": {
    "name": "ipython",
    "version": 3
   },
   "file_extension": ".py",
   "mimetype": "text/x-python",
   "name": "python",
   "nbconvert_exporter": "python",
   "pygments_lexer": "ipython3",
   "version": "3.6.7"
  }
 },
 "nbformat": 4,
 "nbformat_minor": 2
}
